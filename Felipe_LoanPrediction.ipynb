{
  "cells": [
    {
      "cell_type": "code",
      "execution_count": null,
      "id": "fa48c56a",
      "metadata": {},
      "outputs": [],
      "source": [
        "import pandas as pd\n",
        "import numpy as np\n",
        "from sklearn.ensemble import RandomForestClassifier\n",
        "from sklearn.model_selection import train_test_split, RandomizedSearchCV\n",
        "from sklearn.metrics import accuracy_score, classification_report\n",
        "import pickle\n",
        "\n"
      ]
    },
    {
      "cell_type": "code",
      "execution_count": null,
      "id": "1ae9d6cc",
      "metadata": {},
      "outputs": [],
      "source": [
        "# Load dataset\n",
        "train = pd.read_csv('train_ctrUa4K.csv')\n",
        "\n"
      ]
    },
    {
      "cell_type": "code",
      "execution_count": null,
      "id": "6ad182bf",
      "metadata": {},
      "outputs": [],
      "source": [
        "# Handle missing values (imputation instead of dropping)\n",
        "train.fillna(train.median(numeric_only=True), inplace=True)\n",
        "train.fillna(train.mode().iloc[0], inplace=True)\n",
        "\n",
        "\n"
      ]
    },
    {
      "cell_type": "code",
      "execution_count": null,
      "id": "84f9b70e",
      "metadata": {},
      "outputs": [],
      "source": [
        "# Encode categorical variables\n",
        "train['Gender'] = train['Gender'].map({'Male': 0, 'Female': 1})\n",
        "train['Married'] = train['Married'].map({'No': 0, 'Yes': 1})\n",
        "train['Loan_Status'] = train['Loan_Status'].map({'N': 0, 'Y': 1})\n",
        "\n"
      ]
    },
    {
      "cell_type": "code",
      "execution_count": null,
      "id": "fcfa5332",
      "metadata": {},
      "outputs": [],
      "source": [
        "# Feature selection\n",
        "X = train[['Gender', 'Married', 'ApplicantIncome', 'LoanAmount', 'Credit_History']]\n",
        "y = train['Loan_Status']\n",
        "\n",
        "# Train-test split\n",
        "x_train, x_cv, y_train, y_cv = train_test_split(X, y, test_size=0.2, random_state=10)\n",
        "\n"
      ]
    },
    {
      "cell_type": "code",
      "execution_count": null,
      "id": "8513cb82",
      "metadata": {},
      "outputs": [],
      "source": [
        "# Hyperparameter tuning using RandomizedSearchCV\n",
        "param_grid = {\n",
        "    'n_estimators': [50, 100, 200, 300],\n",
        "    'max_depth': [None, 10, 20, 30],\n",
        "    'min_samples_split': [2, 5, 10],\n",
        "    'min_samples_leaf': [1, 2, 4],\n",
        "    'bootstrap': [True, False]\n",
        "}\n",
        "\n",
        "rf = RandomForestClassifier(random_state=10)\n",
        "random_search = RandomizedSearchCV(rf, param_distributions=param_grid, n_iter=20, cv=5, scoring='accuracy', n_jobs=-1, random_state=42)\n",
        "random_search.fit(x_train, y_train)\n",
        "\n"
      ]
    },
    {
      "cell_type": "code",
      "execution_count": null,
      "id": "7755aa83",
      "metadata": {},
      "outputs": [],
      "source": [
        "# Best parameters\n",
        "best_params = random_search.best_params_\n",
        "print(\"Best Parameters:\", best_params)\n",
        "\n",
        "# Train model with best parameters\n",
        "best_rf = RandomForestClassifier(**best_params, random_state=10)\n",
        "best_rf.fit(x_train, y_train)\n",
        "\n"
      ]
    },
    {
      "cell_type": "code",
      "execution_count": null,
      "id": "4f1afecd",
      "metadata": {},
      "outputs": [],
      "source": [
        "# Predictions\n",
        "y_pred = best_rf.predict(x_cv)\n",
        "\n"
      ]
    },
    {
      "cell_type": "code",
      "execution_count": null,
      "id": "e8a7e6f4",
      "metadata": {},
      "outputs": [],
      "source": [
        "# Model evaluation\n",
        "accuracy = accuracy_score(y_cv, y_pred)\n",
        "report = classification_report(y_cv, y_pred)\n",
        "print(\"Accuracy:\", accuracy)\n",
        "print(\"Classification Report:\\n\", report)\n",
        "\n"
      ]
    },
    {
      "cell_type": "code",
      "execution_count": null,
      "id": "c59ef57b",
      "metadata": {},
      "outputs": [],
      "source": [
        "# Save the best model\n",
        "with open('classifier.pkl', 'wb') as f:\n",
        "    pickle.dump(best_rf, f)"
      ]
    },
    {
      "cell_type": "code",
      "execution_count": null,
      "id": "d9a3197d",
      "metadata": {},
      "outputs": [],
      "source": []
    }
  ],
  "metadata": {
    "colab": {
      "provenance": []
    },
    "kernelspec": {
      "display_name": "dalmaufc",
      "language": "python",
      "name": "python3"
    },
    "language_info": {
      "name": "python",
      "version": "3.8.18"
    }
  },
  "nbformat": 4,
  "nbformat_minor": 5
}
